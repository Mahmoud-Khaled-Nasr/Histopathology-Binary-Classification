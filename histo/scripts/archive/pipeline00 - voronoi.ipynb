{
 "cells": [
  {
   "cell_type": "markdown",
   "metadata": {},
   "source": [
    "# ● Libraries"
   ]
  },
  {
   "cell_type": "code",
   "execution_count": 47,
   "metadata": {},
   "outputs": [],
   "source": [
    "import numpy as np\n",
    "import csv\n",
    "import cv2\n",
    "import os\n",
    "import glob\n",
    "import matplotlib.pyplot as plt\n",
    "import math\n",
    "from scipy import ndimage\n",
    "from skimage import data\n",
    "from skimage import filters as skifilters\n",
    "from skimage import img_as_float\n",
    "from sklearn.cluster import KMeans, MeanShift\n",
    "from sklearn.decomposition import PCA\n",
    "from skimage.feature import hog\n",
    "from skimage.measure import label as skilabel\n",
    "from skimage.segmentation import (morphological_chan_vese,\n",
    "                                  checkerboard_level_set)\n",
    "from skimage.feature import local_binary_pattern\n",
    "from skimage.feature.texture import greycomatrix, greycoprops\n",
    "from scipy.stats import skew\n",
    "from skimage.measure import label, regionprops\n",
    "from scipy import interp\n",
    "from sklearn import svm, datasets\n",
    "from sklearn.model_selection import GridSearchCV\n",
    "from sklearn.model_selection import train_test_split\n",
    "from sklearn.model_selection import cross_val_score\n",
    "from sklearn.model_selection import cross_validate\n",
    "from sklearn.metrics import roc_curve, auc, accuracy_score, f1_score, precision_score, recall_score, classification_report, confusion_matrix\n",
    "import time\n",
    "import seaborn as sn\n",
    "import pandas as pd\n",
    "import time\n",
    "import tqdm\n",
    "#import dill\n",
    "from ReliefF import ReliefF\n",
    "from skimage.morphology.convex_hull import convex_hull_image\n",
    "\n",
    "from skimage.color import rgb2hed, rgb2gray\n",
    "\n",
    "from scipy.spatial import ConvexHull, Voronoi, voronoi_plot_2d, distance\n",
    "from scipy.stats import entropy as entropy_\n",
    "from sklearn import preprocessing\n"
   ]
  },
  {
   "cell_type": "markdown",
   "metadata": {},
   "source": [
    "# ● Dataset"
   ]
  },
  {
   "cell_type": "code",
   "execution_count": 2,
   "metadata": {},
   "outputs": [],
   "source": [
    "def sortData(path,mask=False):\n",
    "    \"\"\"\"\n",
    "    Input:  path\n",
    "    Output: data[p] = {\n",
    "        'id':\n",
    "        'image':\n",
    "        'label': }\n",
    "        \n",
    "    \"\"\"\n",
    "    # Importing Images\n",
    "    B0_dir  = glob.glob(path+\"/b0/*.png\")\n",
    "    M0_dir  = glob.glob(path+\"/m0/*.png\")\n",
    "\n",
    "    print(\"Number of B0 Images:\",  len(B0_dir))\n",
    "    print(\"Number of M0 Images:\",  len(M0_dir))\n",
    "    \n",
    "    # Creating Dictionary (B0 Scans)\n",
    "    data = {}\n",
    "    for p in range(len(B0_dir)):\n",
    "        scan_id  =  B0_dir[p].replace(\".png\", \"\")\n",
    "        scan_id  =  scan_id.replace(path+\"/b0\\\\\", \"\")\n",
    "\n",
    "        # Creating list of dictionary                    \n",
    "        data[p] = {\n",
    "                    'id'    : scan_id,\n",
    "                    'image' : B0_dir[p],\n",
    "                    'label' : 0 }            # Label of B0 = 0\n",
    "\n",
    "    # Creating Dictionary (M0 Scans)\n",
    "    for p in range(len(M0_dir)):\n",
    "        scan_id  =  M0_dir[p].replace(\".png\", \"\")\n",
    "        scan_id  =  scan_id.replace(path+\"/m0\\\\\", \"\")\n",
    "\n",
    "        # Creating list of dictionary                    \n",
    "        data[p+len(M0_dir)] = {\n",
    "                    'id'    : scan_id,\n",
    "                    'image' : M0_dir[p],\n",
    "                    'label' : 1 }            # Label of M0 = 1\n",
    "    return data\n",
    "\n",
    "def findScan(data,name,key):\n",
    "    \"\"\"\"\n",
    "    Input: \n",
    "        data     - dict of dict to sort the data\n",
    "        key      - key of 'data' ('id','image','label')\n",
    "        value    - value of 'key'\n",
    "    Output:\n",
    "        value\n",
    "    \"\"\"\n",
    "    for i, dic in data.items():\n",
    "        if dic[key] == name:        \n",
    "            return i\n",
    "    return -1"
   ]
  },
  {
   "cell_type": "code",
   "execution_count": 3,
   "metadata": {},
   "outputs": [
    {
     "name": "stdout",
     "output_type": "stream",
     "text": [
      "Number of B0 Images: 13108\n",
      "Number of M0 Images: 13108\n"
     ]
    }
   ],
   "source": [
    "train_data = sortData('train')           # Load Training Set"
   ]
  },
  {
   "cell_type": "code",
   "execution_count": 4,
   "metadata": {},
   "outputs": [
    {
     "name": "stdout",
     "output_type": "stream",
     "text": [
      "Number of B0 Images: 1639\n",
      "Number of M0 Images: 1639\n"
     ]
    }
   ],
   "source": [
    "val_data   = sortData('val')             # Load Validation Set"
   ]
  },
  {
   "cell_type": "code",
   "execution_count": 5,
   "metadata": {},
   "outputs": [],
   "source": [
    "# Pass Target Image (Example)\n",
    "index1  = findScan(train_data,'b_trainImage115','id')\n",
    "sample1 = plt.imread(train_data[index1]['image'])\n",
    "index2  = findScan(train_data,'b_trainImage111','id')\n",
    "sample2 = plt.imread(train_data[index2]['image'])\n",
    "index3  = findScan(train_data,'b_trainImage140','id')\n",
    "sample3 = plt.imread(train_data[index3]['image'])"
   ]
  },
  {
   "cell_type": "markdown",
   "metadata": {},
   "source": [
    "# ● Preprocessing"
   ]
  },
  {
   "cell_type": "markdown",
   "metadata": {},
   "source": [
    "## Contrast-Limited Adaptive Histogram Equalization (CLAHE)"
   ]
  },
  {
   "cell_type": "code",
   "execution_count": 6,
   "metadata": {},
   "outputs": [],
   "source": [
    "def clahe_RGB(img,clip=3,tile=1):\n",
    "\n",
    "    lab        = cv2.cvtColor(img, cv2.COLOR_RGB2LAB)                          # Convert to LAB Color Space\n",
    "    clahe      = cv2.createCLAHE(clipLimit=clip, tileGridSize=(tile,tile))     # Create CLAHE Function\n",
    "    lab[:,:,0] = clahe.apply(lab[:,:,0])                                       # Apply Transformation\n",
    "    output     = cv2.cvtColor(lab, cv2.COLOR_LAB2RGB)                          # Convert to LAB Color Space\n",
    "   \n",
    "    return output"
   ]
  },
  {
   "cell_type": "markdown",
   "metadata": {},
   "source": [
    "## PDE-ROF Denoising"
   ]
  },
  {
   "cell_type": "code",
   "execution_count": 7,
   "metadata": {},
   "outputs": [],
   "source": [
    "def denoise_RGB(img, weight=0.1, eps=1e-3, num_iter_max=200):\n",
    "    op_img = img.copy()\n",
    "    for channel in range(3):\n",
    "        u   = np.zeros_like(img[:,:,channel])\n",
    "        px  = np.zeros_like(img[:,:,channel])\n",
    "        py  = np.zeros_like(img[:,:,channel])\n",
    "        nm  = np.prod(img.shape[:2])\n",
    "        tau = 0.125\n",
    "\n",
    "        i = 0\n",
    "        while (i < num_iter_max):\n",
    "            u_old = u\n",
    "\n",
    "            # X and Y Components of U's Gradient\n",
    "            ux = np.roll(u, -1, axis=1) - u\n",
    "            uy = np.roll(u, -1, axis=0) - u\n",
    "\n",
    "            # Update Dual Variable\n",
    "            px_new   = px + (tau / weight) * ux\n",
    "            py_new   = py + (tau / weight) * uy\n",
    "            norm_new = np.maximum(1, np.sqrt(px_new **2 + py_new ** 2))\n",
    "            px       = px_new / norm_new\n",
    "            py       = py_new / norm_new\n",
    "\n",
    "            # Calculate Divergence\n",
    "            rx    = np.roll(px, 1, axis=1)\n",
    "            ry    = np.roll(py, 1, axis=0)\n",
    "            div_p = (px - rx) + (py - ry)\n",
    "\n",
    "            # Update Image\n",
    "            u = img[:,:,channel] + weight * div_p\n",
    "\n",
    "            # Calculate Error\n",
    "            error = np.linalg.norm(u - u_old) / np.sqrt(nm)\n",
    "            if i == 0:\n",
    "                err_init = error\n",
    "                err_prev = error\n",
    "            else:\n",
    "                # Break for Small Error\n",
    "                if np.abs(err_prev - error) < eps * err_init:\n",
    "                    break\n",
    "                else:\n",
    "                    err_prev = error\n",
    "            i += 1    \n",
    "            op_img[:,:,channel] = u\n",
    "\n",
    "    return op_img"
   ]
  },
  {
   "cell_type": "markdown",
   "metadata": {},
   "source": [
    "# Voronoi"
   ]
  },
  {
   "cell_type": "code",
   "execution_count": 9,
   "metadata": {},
   "outputs": [],
   "source": [
    "def voronoi_volumes(points):\n",
    "    v = Voronoi(points)\n",
    "    vol = np.zeros(v.npoints)\n",
    "    for i, reg_num in enumerate(v.point_region):\n",
    "        indices = v.regions[reg_num]\n",
    "        if -1 in indices: # some regions can be opened\n",
    "            vol[i] = np.inf\n",
    "        else:\n",
    "            try:\n",
    "                vol[i] = ConvexHull(v.vertices[indices]).volume\n",
    "            except:\n",
    "                vol[i] = 0\n",
    "    return vol\n",
    "\n",
    "def find_max_dist(vor, point, array):\n",
    "    \n",
    "    all_dist = []\n",
    "    \n",
    "    for x in array:\n",
    "#        print (x)\n",
    "        all_dist.append(distance.euclidean(vor.ridge_points[point], vor.ridge_points[x]))\n",
    "        \n",
    "    return np.max(all_dist)"
   ]
  },
  {
   "cell_type": "markdown",
   "metadata": {},
   "source": [
    "# ● Feature Extraction"
   ]
  },
  {
   "cell_type": "code",
   "execution_count": 10,
   "metadata": {},
   "outputs": [],
   "source": [
    "def remove_values_from_list(the_list, val):\n",
    "    return [value for value in the_list if value != val]\n",
    "\n",
    "\n",
    "def extract_features(image):\n",
    "    \n",
    "     # Color Spaces --------------------------------------------------------------------------------------------------\n",
    "    img_RGB                 = image\n",
    "    img_HSV                 = cv2.cvtColor(img_RGB, cv2.COLOR_RGB2HSV)\n",
    "    img_LAB                 = cv2.cvtColor(img_RGB, cv2.COLOR_RGB2Lab)\n",
    "    img_YCrCb               = cv2.cvtColor(img_RGB, cv2.COLOR_RGB2YCrCb)\n",
    "    img_GL                  = cv2.cvtColor(img_RGB, cv2.COLOR_RGB2GRAY)\n",
    "    img_luv                 = cv2.cvtColor(img_RGB, cv2.COLOR_RGB2Luv)\n",
    "    \n",
    "   # -------------------------------------------------------------------------------------------\n",
    "    \n",
    "    #  Voronoi  ------------------------------------------------------------------------------------------\n",
    "    #image_gray = rgb2gray(image)\n",
    "    \n",
    "    image_gray = cv2.cvtColor(image, cv2.COLOR_RGB2GRAY)\n",
    "    \n",
    "    blur = cv2.GaussianBlur(image_gray,(3,3),0)\n",
    "\n",
    "    min_intensity = np.min(blur)\n",
    "    max_intensity = np.max(blur)\n",
    "\n",
    "    perc = 0.30\n",
    "\n",
    "    diff = (max_intensity - min_intensity) * perc\n",
    "\n",
    "    thresh = blur.copy()\n",
    "    thresh[thresh > (min_intensity + diff)] = 0\n",
    "\n",
    "    thresh[thresh > 0] = 1\n",
    "    \n",
    "    connectivity = 4\n",
    "    output = cv2.connectedComponentsWithStats(thresh, connectivity, cv2.CV_8S)\n",
    "\n",
    "    # The fourth cell is the centroid matrix\n",
    "    centroids = output[3]\n",
    "    \n",
    "    if len(centroids) > 3:       \n",
    "\n",
    "        vor = Voronoi(centroids)\n",
    "\n",
    "        # get the areas of the regions:-----------------------\n",
    "        all_area = voronoi_volumes(centroids)\n",
    "\n",
    "        #remove occurences of 'inf'\n",
    "        new_all_area = []\n",
    "        for area in all_area:\n",
    "            if str(area) != 'inf':\n",
    "                new_all_area.append(area)\n",
    "\n",
    "\n",
    "\n",
    "        all_regions = vor.regions\n",
    "\n",
    "        all_chord_lengths = []\n",
    "\n",
    "        for region in all_regions:\n",
    "            no_of_points = len(region)\n",
    "\n",
    "            if no_of_points == 0 or -1 in region:\n",
    "                continue\n",
    "\n",
    "            for point in region:\n",
    "                all_max_dist = []\n",
    "\n",
    "                region_copy = region.copy()\n",
    "                region_copy.remove(point)\n",
    "\n",
    "                max_dist = find_max_dist(vor, point, region_copy)\n",
    "\n",
    "                all_max_dist.append(max_dist)\n",
    "\n",
    "            all_chord_lengths.append(np.max(all_max_dist))\n",
    "\n",
    "\n",
    "\n",
    "        area_avg = np.mean(new_all_area)\n",
    "        area_std_dev = np.std(new_all_area)\n",
    "\n",
    "        if len(new_all_area) == 0:\n",
    "            area_min_max_ratio = 0\n",
    "\n",
    "        else:\n",
    "            area_min_max_ratio = (np.min(new_all_area)/np.max(new_all_area))\n",
    "\n",
    "        area_entropy = entropy_(new_all_area)\n",
    "\n",
    "\n",
    "\n",
    "        chord_avg = np.mean(all_chord_lengths)\n",
    "        chord_std_dev = np.std(all_chord_lengths)\n",
    "\n",
    "        if len(all_chord_lengths) == 0:\n",
    "            chord_min_max_ratio = 0\n",
    "        else:\n",
    "            chord_min_max_ratio = (np.min(new_all_area)/np.max(new_all_area))\n",
    "\n",
    "        chord_entropy = entropy_(all_chord_lengths)\n",
    "\n",
    "    else:\n",
    "        \n",
    "        area_avg = area_std_dev = area_min_max_ratio = area_entropy = 0\n",
    "        chord_avg = chord_std_dev = chord_min_max_ratio = chord_entropy = 0\n",
    "        \n",
    "\n",
    "    \n",
    "   # -----------------------------------------------------------------------------------------------------\n",
    "    \n",
    "    \n",
    "    \n",
    "   \n",
    "    '''\n",
    "    he_image = rgb2hed(img_RGB).astype(int)\n",
    "    \n",
    "    img_hema = he_image[:,:,0] + 1\n",
    "    #img_eosin = he_image[:,:,1] + 1\n",
    "    img_dab = he_image[:,:,2] + 1\n",
    "    \n",
    "    \n",
    "    #    --------------------------------------\n",
    "    \n",
    "    image_gray = rgb2gray(img_RGB)\n",
    "    \n",
    "    # Otsu's thresholding after Gaussian filtering\n",
    "    blur = cv2.GaussianBlur(image_gray,(3,3),0)\n",
    "    #plt.imshow(blur, 'gray')\n",
    "    \n",
    "    \n",
    "    min_intensity = np.min(blur)\n",
    "    max_intensity = np.max(blur)\n",
    "    \n",
    "    perc = 0.50\n",
    "    \n",
    "    diff = (max_intensity - min_intensity) * perc\n",
    "    \n",
    "    thresh = blur.copy()\n",
    "    thresh[thresh > (min_intensity + diff)] = 0\n",
    "    \n",
    "    thresh[thresh > 0] = 1\n",
    "    \n",
    "    cropped = image.copy()\n",
    "    cropped[:,:,0] = img_RGB[:,:,0] * thresh\n",
    "    cropped[:,:,1] = img_RGB[:,:,1] * thresh\n",
    "    cropped[:,:,2] = img_RGB[:,:,2] * thresh\n",
    "    \n",
    "    #remove occurance of 0\n",
    "    vect_0 = remove_values_from_list(cropped[:,:,0].ravel(), 0)\n",
    "    vect_1 = remove_values_from_list(cropped[:,:,1].ravel(), 0)\n",
    "    vect_2 = remove_values_from_list(cropped[:,:,2].ravel(), 0)\n",
    "    \n",
    "    cropped_mean_R = np.mean(vect_0)\n",
    "    cropped_mean_G = np.mean(vect_1)\n",
    "    cropped_mean_B = np.mean(vect_2)\n",
    "    cropped_std_R = np.std(vect_0)\n",
    "    cropped_std_G = np.std(vect_1)\n",
    "    cropped_std_B = np.std(vect_2)\n",
    "    cropped_skew_R = skew(vect_0)\n",
    "    cropped_skew_G = skew(vect_1)\n",
    "    cropped_skew_B = skew(vect_2)  \n",
    "    '''\n",
    "    #----------------------------------------------------------------------------------------------------------------\n",
    "    \n",
    "    \n",
    "    #----------------------------------------------------------------------------------------------------------------\n",
    "    \n",
    "    \n",
    "    \n",
    "    # Color Moments -------------------------------------------------------------------------------------------------\n",
    "    '''mean_hema = np.mean(img_hema)\n",
    "    #mean_eosin = np.mean(img_eosin)\n",
    "    mean_dab = np.mean(img_dab)\n",
    "    std_hema = np.std(img_hema)\n",
    "    #std_eosin = np.std(img_eosin)\n",
    "    std_dab = np.std(img_dab)\n",
    "    skew_hema = skew(img_hema.reshape(-1))\n",
    "    #skew_eosin = skew(img_eosin.reshape(-1))\n",
    "    skew_dab = skew(img_dab.reshape(-1))       \n",
    "    '''\n",
    "    \n",
    "    mean_R = np.mean(img_RGB[:,:,0])\n",
    "    mean_G = np.mean(img_RGB[:,:,1])\n",
    "    mean_B = np.mean(img_RGB[:,:,2])\n",
    "    std_R = np.std(img_RGB[:,:,0])\n",
    "    std_G = np.std(img_RGB[:,:,1])\n",
    "    std_B = np.std(img_RGB[:,:,2])\n",
    "    skew_R = skew(img_RGB[:,:,0].reshape(-1))\n",
    "    skew_G = skew(img_RGB[:,:,1].reshape(-1))\n",
    "    skew_B = skew(img_RGB[:,:,2].reshape(-1))\n",
    "\n",
    "    mean_H = np.mean(img_HSV[:,:,0])\n",
    "    mean_S = np.mean(img_HSV[:,:,1])\n",
    "    mean_V = np.mean(img_HSV[:,:,2])\n",
    "    std_H = np.std(img_HSV[:,:,0])\n",
    "    std_S = np.std(img_HSV[:,:,1])\n",
    "    std_V = np.std(img_HSV[:,:,2])\n",
    "    skew_H = skew(img_HSV[:,:,0].reshape(-1))\n",
    "    skew_S = skew(img_HSV[:,:,1].reshape(-1))\n",
    "    skew_V = skew(img_HSV[:,:,2].reshape(-1))\n",
    "\n",
    "    mean_L = np.mean(img_LAB[:,:,0])\n",
    "    mean_A = np.mean(img_LAB[:,:,1])\n",
    "    mean_b = np.mean(img_LAB[:,:,2])\n",
    "    std_L = np.std(img_LAB[:,:,0])\n",
    "    std_A = np.std(img_LAB[:,:,1])\n",
    "    std_b = np.std(img_LAB[:,:,2])\n",
    "    skew_L = skew(img_LAB[:,:,0].reshape(-1))\n",
    "    skew_A = skew(img_LAB[:,:,1].reshape(-1))\n",
    "    skew_b = skew(img_LAB[:,:,2].reshape(-1))\n",
    "    \n",
    "    mean_Y = np.mean(img_YCrCb[:,:,0])\n",
    "    mean_Cr = np.mean(img_YCrCb[:,:,1])\n",
    "    mean_Cb = np.mean(img_YCrCb[:,:,2])\n",
    "    std_Y = np.std(img_YCrCb[:,:,0])\n",
    "    std_Cr = np.std(img_YCrCb[:,:,1])\n",
    "    std_Cb = np.std(img_YCrCb[:,:,2])\n",
    "    skew_Y = skew(img_YCrCb[:,:,0].reshape(-1))\n",
    "    skew_Cr = skew(img_YCrCb[:,:,1].reshape(-1))\n",
    "    skew_Cb = skew(img_YCrCb[:,:,2].reshape(-1))\n",
    "    \n",
    "    mean_l = np.mean(img_luv[:,:,0])\n",
    "    mean_u = np.mean(img_luv[:,:,1])\n",
    "    mean_v = np.mean(img_luv[:,:,2])\n",
    "    std_l = np.std(img_luv[:,:,0])\n",
    "    std_u = np.std(img_luv[:,:,1])\n",
    "    std_v = np.std(img_luv[:,:,2])\n",
    "    skew_l = skew(img_luv[:,:,0].reshape(-1))\n",
    "    skew_u = skew(img_luv[:,:,1].reshape(-1))\n",
    "    skew_v = skew(img_luv[:,:,2].reshape(-1))\n",
    "    #--------------------------------------------------------------------------------------------------------------\n",
    "    \n",
    "    \n",
    "    \n",
    "    # Grey-Level Co-Occurrence Matrix -----------------------------------------------------------------------------\n",
    "    GLCM_R = greycomatrix(img_RGB[:,:,0], [1], [0, np.pi/4, np.pi/2, 3*np.pi/4], levels=2**8)\n",
    "    GLCM_G = greycomatrix(img_RGB[:,:,1], [1], [0, np.pi/4, np.pi/2, 3*np.pi/4], levels=2**8)\n",
    "    GLCM_B = greycomatrix(img_RGB[:,:,2], [1], [0, np.pi/4, np.pi/2, 3*np.pi/4], levels=2**8)\n",
    "    GLCM_H = greycomatrix(img_HSV[:,:,0], [1], [0, np.pi/4, np.pi/2, 3*np.pi/4], levels=2**8)\n",
    "    GLCM_S = greycomatrix(img_HSV[:,:,1], [1], [0, np.pi/4, np.pi/2, 3*np.pi/4], levels=2**8)\n",
    "    GLCM_V = greycomatrix(img_HSV[:,:,2], [1], [0, np.pi/4, np.pi/2, 3*np.pi/4], levels=2**8)\n",
    "    GLCM_L = greycomatrix(img_LAB[:,:,0], [1], [0, np.pi/4, np.pi/2, 3*np.pi/4], levels=2**8)\n",
    "    GLCM_a = greycomatrix(img_LAB[:,:,1], [1], [0, np.pi/4, np.pi/2, 3*np.pi/4], levels=2**8)\n",
    "    GLCM_b = greycomatrix(img_LAB[:,:,2], [1], [0, np.pi/4, np.pi/2, 3*np.pi/4], levels=2**8)\n",
    "    #GLCM_hema = greycomatrix(he_image[:,:,0]+1, [1], [0, np.pi/4, np.pi/2, 3*np.pi/4], levels=2**8)\n",
    "    #GLCM_eosin = greycomatrix(he_image[:,:,1]+1, [1], [0, np.pi/4, np.pi/2, 3*np.pi/4], levels=2**8)\n",
    "    #GLCM_dab = greycomatrix(he_image[:,:,2]+1, [1], [0, np.pi/4, np.pi/2, 3*np.pi/4], levels=2**8)\n",
    "    \n",
    "    \n",
    "    contrast_R = greycoprops(GLCM_R, 'contrast').mean()\n",
    "    contrast_G = greycoprops(GLCM_G, 'contrast').mean()\n",
    "    contrast_B = greycoprops(GLCM_B, 'contrast').mean()\n",
    "    contrast_H = greycoprops(GLCM_H, 'contrast').mean()\n",
    "    contrast_S = greycoprops(GLCM_S, 'contrast').mean()\n",
    "    contrast_V = greycoprops(GLCM_V, 'contrast').mean()\n",
    "    contrast_L = greycoprops(GLCM_L, 'contrast').mean()\n",
    "    contrast_a = greycoprops(GLCM_a, 'contrast').mean()\n",
    "    contrast_b = greycoprops(GLCM_b, 'contrast').mean()\n",
    "    #contrast_hema = greycoprops(GLCM_hema, 'contrast').mean()\n",
    "    #contrast_eosin = greycoprops(GLCM_eosin, 'contrast').mean()\n",
    "    #contrast_dab = greycoprops(GLCM_dab, 'contrast').mean()\n",
    "\n",
    "    dissim_R = greycoprops(GLCM_R, 'dissimilarity').mean()\n",
    "    dissim_G = greycoprops(GLCM_G, 'dissimilarity').mean()\n",
    "    dissim_B = greycoprops(GLCM_B, 'dissimilarity').mean()\n",
    "    dissim_H = greycoprops(GLCM_H, 'dissimilarity').mean()\n",
    "    dissim_S = greycoprops(GLCM_S, 'dissimilarity').mean()\n",
    "    dissim_V = greycoprops(GLCM_V, 'dissimilarity').mean()\n",
    "    dissim_L = greycoprops(GLCM_L, 'dissimilarity').mean()\n",
    "    dissim_a = greycoprops(GLCM_a, 'dissimilarity').mean()\n",
    "    dissim_b = greycoprops(GLCM_b, 'dissimilarity').mean()\n",
    "    #dissim_hema = greycoprops(GLCM_hema, 'dissimilarity').mean()\n",
    "    #dissim_eosin = greycoprops(GLCM_eosin, 'dissimilarity').mean()\n",
    "    #dissim_dab = greycoprops(GLCM_dab, 'dissimilarity').mean()\n",
    "    \n",
    "    \n",
    "    correl_R = greycoprops(GLCM_R, 'correlation').mean()\n",
    "    correl_G = greycoprops(GLCM_G, 'correlation').mean()\n",
    "    correl_B = greycoprops(GLCM_B, 'correlation').mean()\n",
    "    correl_H = greycoprops(GLCM_H, 'correlation').mean()\n",
    "    correl_S = greycoprops(GLCM_S, 'correlation').mean()\n",
    "    correl_V = greycoprops(GLCM_V, 'correlation').mean()\n",
    "    correl_L = greycoprops(GLCM_L, 'correlation').mean()\n",
    "    correl_a = greycoprops(GLCM_a, 'correlation').mean()\n",
    "    correl_b = greycoprops(GLCM_b, 'correlation').mean()\n",
    "    #correl_hema = greycoprops(GLCM_hema, 'correlation').mean() \n",
    "    #correl_eosin = greycoprops(GLCM_eosin, 'correlation').mean() \n",
    "    #correl_dab = greycoprops(GLCM_dab, 'correlation').mean() \n",
    "    \n",
    "    \n",
    "    homo_R = greycoprops(GLCM_R, 'homogeneity').mean()\n",
    "    homo_G = greycoprops(GLCM_G, 'homogeneity').mean()\n",
    "    homo_B = greycoprops(GLCM_B, 'homogeneity').mean()\n",
    "    homo_H = greycoprops(GLCM_H, 'homogeneity').mean()\n",
    "    homo_S = greycoprops(GLCM_S, 'homogeneity').mean()\n",
    "    homo_V = greycoprops(GLCM_V, 'homogeneity').mean()\n",
    "    homo_L = greycoprops(GLCM_L, 'homogeneity').mean()\n",
    "    homo_a = greycoprops(GLCM_a, 'homogeneity').mean()\n",
    "    homo_b = greycoprops(GLCM_b, 'homogeneity').mean()\n",
    "    #homo_hema = greycoprops(GLCM_hema, 'homogeneity').mean()\n",
    "    #homo_eosin = greycoprops(GLCM_eosin, 'homogeneity').mean()\n",
    "    #homo_dab = greycoprops(GLCM_dab, 'homogeneity').mean()\n",
    "    \n",
    "    #--------------------------------------------------------------------------------------------------------------\n",
    "    \n",
    "\n",
    "    \n",
    "    # Local Binary Patterns --------------------------------------------------------------------------------------\n",
    "    lbp       = local_binary_pattern(img_GL, P=8, R=2, method=\"uniform\")\n",
    "    lbp_GL, _ = np.histogram(lbp, density=True, bins=10, range=(0,int(lbp.max()+1)))\n",
    "\n",
    "    lbp       = local_binary_pattern(img_RGB[:,:,0], P=8, R=2, method=\"uniform\")\n",
    "    lbp_R, _  = np.histogram(lbp, density=True, bins=10, range=(0,int(lbp.max()+1)))\n",
    "    lbp       = local_binary_pattern(img_RGB[:,:,1], P=8, R=2, method=\"uniform\")\n",
    "    lbp_G, _  = np.histogram(lbp, density=True, bins=10, range=(0,int(lbp.max()+1)))\n",
    "    lbp       = local_binary_pattern(img_RGB[:,:,2], P=8, R=2, method=\"uniform\")\n",
    "    lbp_B, _  = np.histogram(lbp, density=True, bins=10, range=(0,int(lbp.max()+1)))\n",
    "    \n",
    "    lbp       = local_binary_pattern(img_HSV[:,:,0], P=8, R=2, method=\"uniform\")\n",
    "    lbp_H, _  = np.histogram(lbp, density=True, bins=10, range=(0,int(lbp.max()+1)))\n",
    "    lbp       = local_binary_pattern(img_HSV[:,:,1], P=8, R=2, method=\"uniform\")\n",
    "    lbp_S, _  = np.histogram(lbp, density=True, bins=10, range=(0,int(lbp.max()+1)))\n",
    "    lbp       = local_binary_pattern(img_HSV[:,:,2], P=8, R=2, method=\"uniform\")\n",
    "    lbp_V, _  = np.histogram(lbp, density=True, bins=10, range=(0,int(lbp.max()+1)))\n",
    "    \n",
    "    lbp       = local_binary_pattern(img_YCrCb[:,:,0], P=8, R=2, method=\"uniform\")\n",
    "    lbp_Y, _  = np.histogram(lbp, density=True, bins=10, range=(0,int(lbp.max()+1)))\n",
    "    lbp       = local_binary_pattern(img_YCrCb[:,:,1], P=8, R=2, method=\"uniform\")\n",
    "    lbp_Cr, _ = np.histogram(lbp, density=True, bins=10, range=(0,int(lbp.max()+1)))\n",
    "    lbp       = local_binary_pattern(img_YCrCb[:,:,2], P=8, R=2, method=\"uniform\")\n",
    "    lbp_Cb, _ = np.histogram(lbp, density=True, bins=10, range=(0,int(lbp.max()+1)))\n",
    "    \n",
    "    \n",
    "    #lbp = local_binary_pattern(he_image[:,:,0], P=8, R=2, method=\"uniform\") \n",
    "    #lbp_hema, _  = np.histogram(lbp, density=True, bins=10, range=(0,int(lbp.max()+1)))\n",
    "    #lbp = local_binary_pattern(he_image[:,:,1], P=8, R=2, method=\"uniform\") \n",
    "    #lbp_eosin, _  = np.histogram(lbp, density=True, bins=10, range=(0,int(lbp.max()+1)))\n",
    "    #lbp = local_binary_pattern(he_image[:,:,2], P=8, R=2, method=\"uniform\") \n",
    "    #lbp_dab, _  = np.histogram(lbp, density=True, bins=10, range=(0,int(lbp.max()+1)))\n",
    "\n",
    "       \n",
    "    LBP_CGLF  = np.concatenate((lbp_R,lbp_G,lbp_B,lbp_H,lbp_S,lbp_V,lbp_Y,lbp_Cr,lbp_Cb,lbp_GL),axis=0)\n",
    "    #--------------------------------------------------------------------------------------------------------------\n",
    "    \n",
    "    \n",
    "    \n",
    "    # Gabor Filter Features --------------------------------------------------------------------------------------\n",
    "    gabor_energy     = []\n",
    "    gabor_filters    = []\n",
    "    kernel_size      = [3, 6, 9]\n",
    "    thetas           = [0, np.pi/4, np.pi/2, 3*np.pi/4]\n",
    "    for size in kernel_size:\n",
    "        for theta in thetas:\n",
    "            kern = cv2.getGaborKernel((size,size), 10.0, theta, 10.0, 1, 1, ktype=cv2.CV_32F)\n",
    "            kern /= 1.5*kern.sum()\n",
    "            gabor_filters.append(kern) \n",
    "    for kern in gabor_filters:\n",
    "        fimg        = cv2.filter2D(img_GL, cv2.CV_8UC3, kern)\n",
    "        gaborGLCM   = greycomatrix(fimg, [1], [0, np.pi/4, np.pi/2, 3*np.pi/4], levels=2**8)\n",
    "        gabor_energy.append(greycoprops(gaborGLCM, 'energy').mean())\n",
    "    #--------------------------------------------------------------------------------------------------------------\n",
    "    \n",
    "    \n",
    "    \n",
    "    # Smoothness, Uniformity, Entropy -----------------------------------------------------------------------------\n",
    "    histogram_GL      = np.histogram(img_GL, bins=2**8, range=(0,(2**8)-1), density=True)\n",
    "    histogram_prob_GL = histogram_GL[0]/sum(histogram_GL[0])    \n",
    "    single_entropy_GL = np.zeros((len(histogram_prob_GL)), dtype = float)\n",
    "    for i in range(len(histogram_prob_GL)):\n",
    "        if(histogram_prob_GL[i] == 0):\n",
    "            single_entropy_GL[i] = 0;\n",
    "        else:\n",
    "            single_entropy_GL[i] = histogram_prob_GL[i]*np.log2(histogram_prob_GL[i]);\n",
    "\n",
    "    smoothness   = 1- 1/(1 + np.var(img_GL/2**8))            \n",
    "    uniformity   = sum(histogram_prob_GL**2);        \n",
    "    entropy      = -(histogram_prob_GL*single_entropy_GL).sum()\n",
    "    #--------------------------------------------------------------------------------------------------------------\n",
    "    \n",
    "    \n",
    "    \n",
    "    features = [ smoothness, uniformity, entropy, mean_R, mean_G, mean_B, std_R, std_G, std_B, skew_R, skew_G, skew_B, mean_H,\n",
    "                 mean_S, mean_V, std_H, std_S, std_V, skew_H, skew_S, skew_V,  mean_L, mean_A, mean_b, std_L, std_A, std_b, skew_L,\n",
    "                 skew_A, skew_b, mean_Y, mean_Cr, mean_Cb, std_Y, std_Cr, std_Cb, skew_Y, skew_Cr, skew_Cb, mean_l, mean_u, \n",
    "                 mean_v, std_l, std_u, std_v, skew_l, skew_u, skew_v, contrast_R, contrast_G, contrast_B, contrast_H, contrast_S, \n",
    "                 contrast_V, contrast_L, contrast_a, contrast_b, dissim_R, dissim_G, dissim_B, dissim_H, dissim_S, dissim_V, dissim_L, \n",
    "                 dissim_a, dissim_b, correl_R, correl_G, correl_B, correl_H, correl_S, correl_V, correl_L, correl_a, correl_b, homo_R, \n",
    "                 homo_G, homo_B, homo_H, homo_S, homo_V, homo_L, homo_a, homo_b, area_avg, area_std_dev, area_min_max_ratio, area_entropy,\n",
    "                 chord_avg, chord_std_dev, chord_min_max_ratio, chord_entropy]\n",
    "\n",
    "    features = np.concatenate((features,LBP_CGLF,gabor_energy),axis=0)\n",
    "\n",
    "    return features\n"
   ]
  },
  {
   "cell_type": "code",
   "execution_count": 11,
   "metadata": {},
   "outputs": [
    {
     "data": {
      "text/plain": [
       "array([ 7.60020010e-02,  4.72706924e-03,  3.60968956e-02,  1.42910590e+02,\n",
       "        1.04625109e+02,  1.81535373e+02,  7.96376153e+01,  7.34298989e+01,\n",
       "        6.14910704e+01, -1.12073241e-01,  2.03795941e-01, -2.88466008e-01,\n",
       "        1.36038303e+02,  1.29978407e+02,  1.81737847e+02,  8.79774597e+00,\n",
       "        6.76100751e+01,  6.15231708e+01, -1.60435058e+00,  3.25767173e-01,\n",
       "       -2.93496587e-01,  1.28068359e+02,  1.60046658e+02,  9.26398655e+01,\n",
       "        7.20196378e+01,  8.46139836e+00,  1.20847957e+01, -1.15679000e-02,\n",
       "       -1.48901820e+00,  9.47034727e-01,  1.24838650e+02,  1.40917318e+02,\n",
       "        1.59968967e+02,  7.34203165e+01,  8.15686191e+00,  1.06224421e+01,\n",
       "        4.16205941e-02,  6.01981106e-02, -9.94262129e-01,  1.27602973e+02,\n",
       "        1.05758789e+02,  8.85430773e+01,  7.20167340e+01,  7.20916713e+00,\n",
       "        1.77245603e+01, -1.36660292e-02,  5.04850136e-01,  5.79644023e-01,\n",
       "        5.00790845e+07,  4.55982180e+07,  3.76146088e+07,  4.89290750e+05,\n",
       "        3.80989210e+07,  3.75615718e+07,  4.40953862e+07,  4.14401250e+05,\n",
       "        8.13789500e+05,  4.97453000e+05,  4.75645500e+05,  4.26231250e+05,\n",
       "        4.10007500e+04,  4.29447000e+05,  4.25680250e+05,  4.67619250e+05,\n",
       "        4.24717500e+04,  5.86160000e+04,  9.99999998e-01,  9.99999997e-01,\n",
       "        9.99999999e-01,  1.00000000e+00,  9.99999998e-01,  9.99999999e-01,\n",
       "        9.99999998e-01,  1.00000000e+00,  1.00000000e+00,  4.66705004e+02,\n",
       "        3.74586471e+02,  9.75902822e+02,  2.39962540e+03,  4.06940854e+02,\n",
       "        9.86340033e+02,  2.99652508e+02,  2.19402056e+03,  1.78653559e+03,\n",
       "        1.43107934e+03,  8.06500285e+03,  5.51993177e-04,  1.42648084e+00,\n",
       "        5.76804149e+01,  2.40787856e+01,  5.51993177e-04,  4.24542237e+00,\n",
       "        9.96093750e-02,  1.29774306e-01,  5.25173611e-02,  5.19748264e-02,\n",
       "        5.52300347e-02,  7.82335069e-02,  6.20659722e-02,  9.04947917e-02,\n",
       "        1.13606771e-01,  2.66493056e-01,  1.18381076e-01,  1.13715278e-01,\n",
       "        5.64236111e-02,  5.25173611e-02,  5.19748264e-02,  6.54296875e-02,\n",
       "        5.14322917e-02,  7.82335069e-02,  1.46158854e-01,  2.65733507e-01,\n",
       "        8.36588542e-02,  1.41493056e-01,  4.23177083e-02,  4.01475694e-02,\n",
       "        4.02560764e-02,  5.90277778e-02,  4.75260417e-02,  9.44010417e-02,\n",
       "        1.25651042e-01,  3.25520833e-01,  6.67317708e-02,  8.51779514e-02,\n",
       "        5.51215278e-02,  8.84331597e-02,  1.18381076e-01,  1.49739583e-01,\n",
       "        1.00477431e-01,  6.73828125e-02,  6.84678819e-02,  2.00086806e-01,\n",
       "        1.07638889e-01,  1.01453993e-01,  5.53385417e-02,  7.15060764e-02,\n",
       "        7.21571181e-02,  6.58637153e-02,  6.26085069e-02,  1.01345486e-01,\n",
       "        9.86328125e-02,  2.63454861e-01,  8.38758681e-02,  1.40299479e-01,\n",
       "        4.24262153e-02,  4.01475694e-02,  3.99305556e-02,  5.89192708e-02,\n",
       "        4.66579861e-02,  9.49435764e-02,  1.25759549e-01,  3.27039931e-01,\n",
       "        1.21202257e-01,  1.17187500e-01,  5.46875000e-02,  5.02387153e-02,\n",
       "        5.21918403e-02,  7.02039931e-02,  5.43619792e-02,  9.44010417e-02,\n",
       "        1.20551215e-01,  2.64973958e-01,  6.25000000e-02,  9.15798611e-02,\n",
       "        8.40928819e-02,  1.06445312e-01,  1.11111111e-01,  1.21853299e-01,\n",
       "        9.28819444e-02,  7.09635417e-02,  7.55208333e-02,  1.83051215e-01,\n",
       "        6.28255208e-02,  8.45269097e-02,  9.24479167e-02,  1.19249132e-01,\n",
       "        1.25108507e-01,  9.83072917e-02,  5.41449653e-02,  6.61892361e-02,\n",
       "        8.26822917e-02,  2.14518229e-01,  1.21202257e-01,  1.17187500e-01,\n",
       "        5.46875000e-02,  5.02387153e-02,  5.20833333e-02,  7.03125000e-02,\n",
       "        5.43619792e-02,  9.44010417e-02,  1.20551215e-01,  2.64973958e-01,\n",
       "        1.30384004e+02,  1.30492678e+02,  1.30595668e+02,  1.30260814e+02,\n",
       "        4.39945719e+02,  2.27452141e+02,  3.93918486e+02,  2.94949681e+02,\n",
       "        1.98414965e+03,  8.24870454e+02,  1.83275535e+03,  8.95194694e+02])"
      ]
     },
     "execution_count": 11,
     "metadata": {},
     "output_type": "execute_result"
    }
   ],
   "source": [
    "# Feature Vector Length (Redundancy Check)\n",
    "demo = np.array(extract_features(cl3))\n",
    "demo.shape\n",
    "demo"
   ]
  },
  {
   "cell_type": "code",
   "execution_count": 12,
   "metadata": {},
   "outputs": [
    {
     "name": "stderr",
     "output_type": "stream",
     "text": [
      "  0%|▏                                                                            | 82/26216 [01:10<6:25:01,  1.13it/s]C:\\ProgramData\\Anaconda3\\lib\\site-packages\\numpy\\core\\fromnumeric.py:3118: RuntimeWarning: Mean of empty slice.\n",
      "  out=out, **kwargs)\n",
      "C:\\ProgramData\\Anaconda3\\lib\\site-packages\\numpy\\core\\_methods.py:85: RuntimeWarning: invalid value encountered in double_scalars\n",
      "  ret = ret.dtype.type(ret / rcount)\n",
      "C:\\ProgramData\\Anaconda3\\lib\\site-packages\\numpy\\core\\_methods.py:140: RuntimeWarning: Degrees of freedom <= 0 for slice\n",
      "  keepdims=keepdims)\n",
      "C:\\ProgramData\\Anaconda3\\lib\\site-packages\\numpy\\core\\_methods.py:110: RuntimeWarning: invalid value encountered in true_divide\n",
      "  arrmean, rcount, out=arrmean, casting='unsafe', subok=False)\n",
      "C:\\ProgramData\\Anaconda3\\lib\\site-packages\\numpy\\core\\_methods.py:132: RuntimeWarning: invalid value encountered in double_scalars\n",
      "  ret = ret.dtype.type(ret / rcount)\n",
      "100%|██████████████████████████████████████████████████████████████████████████| 26216/26216 [6:48:47<00:00,  1.06it/s]\n"
     ]
    },
    {
     "name": "stdout",
     "output_type": "stream",
     "text": [
      "Features Extraction (Training Set) Complete: 26216\n"
     ]
    }
   ],
   "source": [
    "train_features_B0 = [] \n",
    "train_features_M0 = []\n",
    "\n",
    "counter      = 0\n",
    "start        = 0\n",
    "stop         = len(train_data)\n",
    "\n",
    "for index in tqdm.tqdm(range(start,stop)):\n",
    "    time.sleep(0.01)\n",
    "\n",
    "    # Load Dataset\n",
    "    image    = plt.imread(train_data[index]['image'])\n",
    "    scan_id  = train_data[index]['id']\n",
    "    label    = train_data[index]['label']\n",
    "    \n",
    "        \n",
    "    # Preprocessing\n",
    "    cl       = clahe_RGB((image*255).astype(np.uint8))         # CLAHE Preprocessing\n",
    "    denoi    = denoise_RGB(cl, weight=10)                      # PDE-ROF Denoising              \n",
    "        \n",
    "    # Feature Extraction\n",
    "    features = extract_features(denoi)\n",
    "    features = np.expand_dims(np.asarray(features),axis=0)\n",
    "    \n",
    "    # Pass to Feature Vectors\n",
    "    if (label==0):                           # B0 Features\n",
    "        if (len(train_features_B0)==0):\n",
    "            train_features_B0 = features\n",
    "        else:\n",
    "            train_features_B0 = np.concatenate((train_features_B0,features),axis=0)\n",
    "\n",
    "    if (label==1):                           # M0 Features\n",
    "        if (len(train_features_M0)==0):\n",
    "            train_features_M0 = features\n",
    "        else:\n",
    "            train_features_M0 = np.concatenate((train_features_M0,features),axis=0)\n",
    "    counter = counter + 1\n",
    "\n",
    "print(\"Features Extraction (Training Set) Complete: \"+str(counter))"
   ]
  },
  {
   "cell_type": "code",
   "execution_count": null,
   "metadata": {},
   "outputs": [],
   "source": [
    "train_features_B0 = np.nan_to_num(train_features_B0)\n",
    "train_features_M0 = np.nan_to_num(train_features_M0)"
   ]
  },
  {
   "cell_type": "code",
   "execution_count": 21,
   "metadata": {},
   "outputs": [],
   "source": [
    "#np.savetxt(\"train_features_B0.csv\", train_features_B0, delimiter=\",\")"
   ]
  },
  {
   "cell_type": "code",
   "execution_count": 22,
   "metadata": {},
   "outputs": [],
   "source": [
    "#np.savetxt(\"train_features_M0.csv\", train_features_M0, delimiter=\",\")"
   ]
  },
  {
   "cell_type": "code",
   "execution_count": 55,
   "metadata": {},
   "outputs": [],
   "source": [
    "#train_features_B0_copy = train_features_B0.copy()"
   ]
  },
  {
   "cell_type": "code",
   "execution_count": 56,
   "metadata": {},
   "outputs": [],
   "source": [
    "#train_features_B0 = np.nan_to_num(np.loadtxt(open(\"voronoi_train_features_B0.csv\", \"rb\"), delimiter=\",\"))"
   ]
  },
  {
   "cell_type": "code",
   "execution_count": 33,
   "metadata": {},
   "outputs": [],
   "source": [
    "#train_features_M0_copy = train_features_B0.copy()"
   ]
  },
  {
   "cell_type": "code",
   "execution_count": 57,
   "metadata": {},
   "outputs": [],
   "source": [
    "#train_features_M0 = np.nan_to_num(np.loadtxt(open(\"voronoi_train_features_M0.csv\", \"rb\"), delimiter=\",\"))\n"
   ]
  },
  {
   "cell_type": "code",
   "execution_count": 13,
   "metadata": {},
   "outputs": [
    {
     "name": "stderr",
     "output_type": "stream",
     "text": [
      "100%|██████████████████████████████████████████████████████████████████████████████| 3278/3278 [51:29<00:00,  1.03it/s]\n"
     ]
    },
    {
     "name": "stdout",
     "output_type": "stream",
     "text": [
      "Features Extraction (Training Set) Complete: 3278\n"
     ]
    }
   ],
   "source": [
    "val_features_B0  = [] \n",
    "val_features_M0  = []\n",
    "\n",
    "counter      = 0\n",
    "start        = 0\n",
    "stop         = len(val_data)\n",
    "\n",
    "for index in tqdm.tqdm(range(start,stop)):\n",
    "    time.sleep(0.01)\n",
    "\n",
    "    # Load Dataset\n",
    "    image    = plt.imread(val_data[index]['image'])\n",
    "    scan_id  = val_data[index]['id']\n",
    "    label    = val_data[index]['label']\n",
    "    \n",
    "        \n",
    "    # Preprocessing\n",
    "    cl       = clahe_RGB((image*255).astype(np.uint8))         # CLAHE Preprocessing\n",
    "    denoi    = denoise_RGB(cl, weight=10)                      # PDE-ROF Denoising              \n",
    "        \n",
    "    # Feature Extraction\n",
    "    features = extract_features(denoi)\n",
    "    features = np.expand_dims(np.asarray(features),axis=0)\n",
    "    \n",
    "    # Pass to Feature Vectors\n",
    "    if (label==0):                           # B0 Features\n",
    "        if (len(val_features_B0)==0):\n",
    "            val_features_B0 = features\n",
    "        else:\n",
    "            val_features_B0 = np.concatenate((val_features_B0,features),axis=0)\n",
    "\n",
    "    if (label==1):                           # M0 Features\n",
    "        if (len(val_features_M0)==0):\n",
    "            val_features_M0 = features\n",
    "        else:\n",
    "            val_features_M0 = np.concatenate((val_features_M0,features),axis=0)\n",
    "    counter = counter + 1\n",
    "\n",
    "print(\"Features Extraction (Training Set) Complete: \"+str(counter))"
   ]
  },
  {
   "cell_type": "code",
   "execution_count": null,
   "metadata": {},
   "outputs": [],
   "source": [
    "val_features_B0 = np.nan_to_num(val_features_B0)\n",
    "val_features_M0 = np.nan_to_num(val_features_M0)"
   ]
  },
  {
   "cell_type": "code",
   "execution_count": 19,
   "metadata": {},
   "outputs": [],
   "source": [
    "#np.savetxt(\"val_features_B0.csv\", val_features_B0, delimiter=\",\")"
   ]
  },
  {
   "cell_type": "code",
   "execution_count": 20,
   "metadata": {},
   "outputs": [],
   "source": [
    "#np.savetxt(\"val_features_M0.csv\", val_features_M0, delimiter=\",\")"
   ]
  },
  {
   "cell_type": "code",
   "execution_count": 34,
   "metadata": {},
   "outputs": [],
   "source": [
    "#val_features_B0_copy = val_features_B0.copy()"
   ]
  },
  {
   "cell_type": "code",
   "execution_count": 58,
   "metadata": {},
   "outputs": [],
   "source": [
    "#val_features_B0 = np.nan_to_num(np.loadtxt(open(\"voronoi_val_features_B0.csv\", \"rb\"), delimiter=\",\"))\n"
   ]
  },
  {
   "cell_type": "code",
   "execution_count": 35,
   "metadata": {},
   "outputs": [],
   "source": [
    "#val_features_M0_copy = val_features_M0.copy()"
   ]
  },
  {
   "cell_type": "code",
   "execution_count": 59,
   "metadata": {},
   "outputs": [],
   "source": [
    "#val_features_M0 = np.nan_to_num(np.loadtxt(open(\"voronoi_val_features_M0.csv\", \"rb\"), delimiter=\",\"))"
   ]
  },
  {
   "cell_type": "markdown",
   "metadata": {},
   "source": [
    "# ● Classifier (Super Vector Machine)"
   ]
  },
  {
   "cell_type": "markdown",
   "metadata": {},
   "source": [
    "## Normalization"
   ]
  },
  {
   "cell_type": "code",
   "execution_count": 52,
   "metadata": {},
   "outputs": [],
   "source": [
    "def concat_and_shuffled(class0,class1, shuffled=True):\n",
    "    rnd = np.random.RandomState(8)\n",
    "    \n",
    "    # Create Individual Label Vectors\n",
    "    Y_0   = np.zeros(class0.shape[0])\n",
    "    Y_1   = np.ones(class1.shape[0])\n",
    "    \n",
    "    # Concatenate to Complete Vectors\n",
    "    Y     = np.concatenate([Y_0,Y_1])\n",
    "    X     = np.concatenate([class0,class1])\n",
    "    \n",
    "    if shuffled:\n",
    "        shuffled_indices = rnd.permutation(np.arange(Y.shape[0]))\n",
    "        return X[shuffled_indices], Y[shuffled_indices]\n",
    "    else:\n",
    "        return X, Y"
   ]
  },
  {
   "cell_type": "code",
   "execution_count": 60,
   "metadata": {},
   "outputs": [],
   "source": [
    "# Generate Randomly Shuffled Consolidated Training and Validation Vectors\n",
    "X_test, Y_test              = concat_and_shuffled(class0=val_features_B0,   class1=val_features_M0,   shuffled=True)\n",
    "X_train,Y_train             = concat_and_shuffled(class0=train_features_B0, class1=train_features_M0, shuffled=True)\n",
    "\n",
    "# Normalize to Mean=0 and Standard Deviation=1 \n",
    "X_train                     = (X_train-np.mean(X_train,axis=0))/np.std(X_train,axis=0)\n",
    "X_test                      = (X_test-np.mean(X_test,axis=0))/np.std(X_test,axis=0)"
   ]
  },
  {
   "cell_type": "markdown",
   "metadata": {},
   "source": [
    "## Model Fit"
   ]
  },
  {
   "cell_type": "code",
   "execution_count": 61,
   "metadata": {},
   "outputs": [
    {
     "data": {
      "text/plain": [
       "SVC(C=10, cache_size=200, class_weight='balanced', coef0=0.0,\n",
       "  decision_function_shape='ovr', degree=3, gamma='scale', kernel='rbf',\n",
       "  max_iter=-1, probability=True, random_state=None, shrinking=True,\n",
       "  tol=0.001, verbose=False)"
      ]
     },
     "execution_count": 61,
     "metadata": {},
     "output_type": "execute_result"
    }
   ],
   "source": [
    "classifier = svm.SVC(C=10, kernel='rbf', gamma='scale', probability=True, class_weight='balanced')\n",
    "classifier.fit(X_train, Y_train)"
   ]
  },
  {
   "cell_type": "markdown",
   "metadata": {},
   "source": [
    "# ● Results (AUC, F1, Accuracy, Precision, Recall)"
   ]
  },
  {
   "cell_type": "code",
   "execution_count": 62,
   "metadata": {},
   "outputs": [],
   "source": [
    "def ROC(X_test,Y_test,clf) :\n",
    "    TPRS = []\n",
    "    AUCS = []\n",
    "    mean_FPR = np.linspace(0, 0.1, 100)\n",
    "    \n",
    "    FPR, TPR, thresholds = roc_curve(Y_test, classifier.predict_proba(X_test)[:,1])\n",
    "    TPRS.append(interp(mean_FPR, FPR, TPR))\n",
    "    TPRS[-1][0] = 0.0\n",
    "    \n",
    "    ROC_AUC = auc(FPR, TPR)\n",
    "    AUCS.append(ROC_AUC)\n",
    "    \n",
    "    plt.figure(figsize=[6,5])\n",
    "    plt.title(\"AUC = %0.5f\"%ROC_AUC)\n",
    "    plt.plot(FPR, TPR, lw=1, alpha=1.0)\n",
    "    plt.ylabel('True Positive Rate')\n",
    "    plt.xlabel('False Positive Rate')\n",
    "    plt.grid(alpha=0.2)"
   ]
  },
  {
   "cell_type": "code",
   "execution_count": 63,
   "metadata": {},
   "outputs": [
    {
     "data": {
      "image/png": "[encoded data removed]",
      "text/plain": [
       "<Figure size 432x360 with 1 Axes>"
      ]
     },
     "metadata": {
      "needs_background": "light"
     },
     "output_type": "display_data"
    }
   ],
   "source": [
    "ROC(X_test,Y_test,classifier)"
   ]
  },
  {
   "cell_type": "code",
   "execution_count": 64,
   "metadata": {},
   "outputs": [
    {
     "name": "stdout",
     "output_type": "stream",
     "text": [
      "Accuracy = 0.8337\n",
      "Precision = 0.8350\n",
      "Recall = 0.8337\n",
      "F1 Score = 0.8336\n"
     ]
    }
   ],
   "source": [
    "# Classification Metrics\n",
    "accuracy  = accuracy_score(Y_test, classifier.predict(X_test))\n",
    "precision = precision_score(Y_test, classifier.predict(X_test),  average=\"macro\")\n",
    "recall    = recall_score(Y_test, classifier.predict(X_test),  average=\"macro\")\n",
    "F1        = f1_score(Y_test, classifier.predict(X_test),  average=\"macro\")\n",
    "\n",
    "print(\"Accuracy = %0.4f\"%accuracy)\n",
    "print(\"Precision = %0.4f\"%precision)\n",
    "print(\"Recall = %0.4f\"%recall)\n",
    "print(\"F1 Score = %0.4f\"%F1)"
   ]
  },
  {
   "cell_type": "code",
   "execution_count": 65,
   "metadata": {},
   "outputs": [
    {
     "name": "stdout",
     "output_type": "stream",
     "text": [
      "TN: 1416\n",
      "FN: 322\n",
      "TP: 1317\n",
      "FP: 223\n"
     ]
    },
    {
     "data": {
      "image/png": "[encoded data removed]",
      "text/plain": [
       "<Figure size 432x288 with 2 Axes>"
      ]
     },
     "metadata": {
      "needs_background": "light"
     },
     "output_type": "display_data"
    }
   ],
   "source": [
    "TN, FP, FN, TP = confusion_matrix(Y_test, classifier.predict(X_test)).ravel()\n",
    "CM = confusion_matrix(Y_test, classifier.predict(X_test))\n",
    "CM = pd.DataFrame(CM, index = [\"M0 (Actual)\",\"B0 (Actual)\"],\n",
    "                  columns = [\"M0 (Predicted)\",\"B0 (Predicted)\"])\n",
    "sn.heatmap(CM, annot=True, fmt='g')\n",
    "print(\"TN: %d\"%TN)\n",
    "print(\"FN: %d\"%FN)\n",
    "print(\"TP: %d\"%TP)\n",
    "print(\"FP: %d\"%FP)"
   ]
  },
  {
   "cell_type": "markdown",
   "metadata": {},
   "source": [
    "## 5-Fold Cross-Validation"
   ]
  },
  {
   "cell_type": "code",
   "execution_count": 66,
   "metadata": {},
   "outputs": [],
   "source": [
    "full_features_B0 = np.zeros(shape=(train_features_B0.shape[0]+val_features_B0.shape[0],train_features_B0.shape[1]))\n",
    "full_features_M0 = np.zeros(shape=(train_features_M0.shape[0]+val_features_M0.shape[0],train_features_M0.shape[1]))\n",
    "\n",
    "full_features_B0[:train_features_B0.shape[0],:] = train_features_B0\n",
    "full_features_B0[train_features_B0.shape[0]:,:] = val_features_B0\n",
    "\n",
    "full_features_M0[:train_features_M0.shape[0],:] = train_features_M0\n",
    "full_features_M0[train_features_M0.shape[0]:,:] = val_features_M0"
   ]
  },
  {
   "cell_type": "code",
   "execution_count": 67,
   "metadata": {},
   "outputs": [],
   "source": [
    "X, Y               = concat_and_shuffled(class0=full_features_B0, class1=full_features_M0, shuffled=True)\n",
    "X                  = (X-np.mean(X,axis=0))/np.std(X,axis=0)\n",
    "KFclassifier       = svm.SVC(C=10,gamma='scale',probability=True,class_weight='balanced')\n",
    "scoring_metrics    = ['roc_auc', 'accuracy', 'precision_macro', 'recall_macro', 'f1_macro']\n",
    "scores             = cross_validate(KFclassifier, X, Y, scoring=scoring_metrics, cv=5)"
   ]
  },
  {
   "cell_type": "code",
   "execution_count": 68,
   "metadata": {},
   "outputs": [
    {
     "name": "stdout",
     "output_type": "stream",
     "text": [
      "Accuracy = 0.9019\n",
      "Precision = 0.9020\n",
      "Recall = 0.9019\n",
      "F1 Score = 0.9019\n",
      "ROC(AUC) = 0.9620\n"
     ]
    }
   ],
   "source": [
    "# Classification Metrics\n",
    "print(\"Accuracy = %0.4f\"%scores['test_accuracy'].mean())\n",
    "print(\"Precision = %0.4f\"%scores['test_precision_macro'].mean())\n",
    "print(\"Recall = %0.4f\"%scores['test_recall_macro'].mean())\n",
    "print(\"F1 Score = %0.4f\"%scores['test_f1_macro'].mean())\n",
    "print(\"ROC(AUC) = %0.4f\"%scores['test_roc_auc'].mean())"
   ]
  },
  {
   "cell_type": "code",
   "execution_count": null,
   "metadata": {},
   "outputs": [],
   "source": []
  }
 ],
 "metadata": {
  "kernelspec": {
   "display_name": "Python 3",
   "language": "python",
   "name": "python3"
  },
  "language_info": {
   "codemirror_mode": {
    "name": "ipython",
    "version": 3
   },
   "file_extension": ".py",
   "mimetype": "text/x-python",
   "name": "python",
   "nbconvert_exporter": "python",
   "pygments_lexer": "ipython3",
   "version": "3.7.3"
  }
 },
 "nbformat": 4,
 "nbformat_minor": 4
}
